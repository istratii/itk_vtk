{
 "cells": [
  {
   "cell_type": "markdown",
   "metadata": {},
   "source": [
    "### SOLUTION ITK/VTK"
   ]
  },
  {
   "cell_type": "markdown",
   "metadata": {},
   "source": [
    "(les images sont dans le dossier data)"
   ]
  },
  {
   "cell_type": "markdown",
   "metadata": {},
   "source": [
    "### Imports"
   ]
  },
  {
   "cell_type": "code",
   "execution_count": null,
   "metadata": {},
   "outputs": [],
   "source": [
    "import itk\n",
    "import vtk\n",
    "from vtk.util import numpy_support\n",
    "import numpy as np\n",
    "import matplotlib.pyplot as plt"
   ]
  },
  {
   "cell_type": "markdown",
   "metadata": {},
   "source": [
    "### Utils"
   ]
  },
  {
   "cell_type": "code",
   "execution_count": null,
   "metadata": {},
   "outputs": [],
   "source": [
    "# Fonction pour lire les fichiers .nrrd\n",
    "def read_nrrd(file_path):\n",
    "    reader = itk.ImageFileReader.New(FileName=file_path)\n",
    "    reader.Update()\n",
    "    return reader.GetOutput()\n",
    "\n",
    "# Fonction pour afficher une coupe d'une image ITK\n",
    "def display_image_slice(image, slice_index, axis=2):\n",
    "    array = itk.GetArrayFromImage(image)\n",
    "    if axis == 0:\n",
    "        slice_ = array[slice_index, :, :]\n",
    "    elif axis == 1:\n",
    "        slice_ = array[:, slice_index, :]\n",
    "    elif axis == 2:\n",
    "        slice_ = array[:, :, slice_index]\n",
    "    plt.imshow(slice_, cmap='gray')\n",
    "    plt.show()\n",
    "    \n",
    "def overlay_images(fixed_image, moving_image, slice_index, axis=2):\n",
    "    fixed_array = itk.GetArrayFromImage(fixed_image)\n",
    "    moving_array = itk.GetArrayFromImage(moving_image)\n",
    "    \n",
    "    if axis == 0:\n",
    "        fixed_slice = fixed_array[slice_index, :, :]\n",
    "        moving_slice = moving_array[slice_index, :, :]\n",
    "    elif axis == 1:\n",
    "        fixed_slice = fixed_array[:, slice_index, :]\n",
    "        moving_slice = moving_array[:, slice_index, :]\n",
    "    elif axis == 2:\n",
    "        fixed_slice = fixed_array[:, :, slice_index]\n",
    "        moving_slice = moving_array[:, :, slice_index]\n",
    "\n",
    "    plt.figure(figsize=(10, 5))\n",
    "\n",
    "    plt.subplot(1, 2, 1)\n",
    "    plt.title('Fixed Image')\n",
    "    plt.imshow(fixed_slice, cmap='gray')\n",
    "\n",
    "    plt.subplot(1, 2, 2)\n",
    "    plt.title('Moving Image')\n",
    "    plt.imshow(moving_slice, cmap='gray')\n",
    "\n",
    "    plt.show()\n",
    "\n",
    "    plt.figure(figsize=(5, 5))\n",
    "    plt.title('Overlay')\n",
    "    plt.imshow(fixed_slice, cmap='gray', alpha=0.5)\n",
    "    plt.imshow(moving_slice, cmap='hot', alpha=0.5)\n",
    "    plt.show()"
   ]
  },
  {
   "cell_type": "markdown",
   "metadata": {},
   "source": [
    "### Recalage d'images"
   ]
  },
  {
   "cell_type": "code",
   "execution_count": null,
   "metadata": {},
   "outputs": [],
   "source": [
    "# Fonction pour réaliser le recalage rigide\n",
    "def rigid_registration(fixed_image, moving_image):\n",
    "    # Définir les types d'images\n",
    "    PixelType = itk.F\n",
    "    Dimension = 3\n",
    "    ImageType = itk.Image[PixelType, Dimension]\n",
    "    \n",
    "    # Convertir les images en type float\n",
    "    fixed_image_f = itk.CastImageFilter[type(fixed_image), ImageType].New(Input=fixed_image)\n",
    "    moving_image_f = itk.CastImageFilter[type(moving_image), ImageType].New(Input=moving_image)\n",
    "    fixed_image_f.Update()\n",
    "    moving_image_f.Update()\n",
    "\n",
    "    # Initialiser la transformation\n",
    "    initial_transform = itk.CenteredTransformInitializer[ImageType, ImageType].New(\n",
    "        Transform=itk.Euler3DTransform.New(),\n",
    "        FixedImage=fixed_image_f.GetOutput(),\n",
    "        MovingImage=moving_image_f.GetOutput(),\n",
    "    )\n",
    "    initial_transform.InitializeTransform()\n",
    "\n",
    "    # Configurer la méthode de recalage\n",
    "    registration = itk.ImageRegistrationMethod[ImageType, ImageType].New(\n",
    "        FixedImage=fixed_image_f.GetOutput(),\n",
    "        MovingImage=moving_image_f.GetOutput(),\n",
    "        InitialTransform=initial_transform,\n",
    "        Metric=itk.MeanSquaresImageToImageMetric[ImageType, ImageType].New(),\n",
    "        Optimizer=itk.RegularStepGradientDescentOptimizer.New(\n",
    "            MaximumStepLength=4.0,\n",
    "            MinimumStepLength=0.01,\n",
    "            RelaxationFactor=0.5,\n",
    "            NumberOfIterations=200,\n",
    "        ),\n",
    "        Interpolator=itk.LinearInterpolateImageFunction[ImageType, itk.D].New(),\n",
    "    )\n",
    "\n",
    "    # Exécuter le recalage\n",
    "    registration.Update()\n",
    "\n",
    "    # Obtenir la transformation finale\n",
    "    final_transform = registration.GetTransform()\n",
    "\n",
    "    # Rééchantillonner l'image mobile en utilisant la transformation finale\n",
    "    resampler = itk.ResampleImageFilter[ImageType, ImageType].New(\n",
    "        Input=moving_image,\n",
    "        Transform=final_transform,\n",
    "        UseReferenceImage=True,\n",
    "        ReferenceImage=fixed_image,\n",
    "        Interpolator=itk.LinearInterpolateImageFunction[ImageType, itk.D].New(),\n",
    "    )\n",
    "    resampler.Update()\n",
    "\n",
    "    return resampler.GetOutput()"
   ]
  },
  {
   "cell_type": "markdown",
   "metadata": {},
   "source": [
    "### Test "
   ]
  },
  {
   "cell_type": "code",
   "execution_count": null,
   "metadata": {},
   "outputs": [],
   "source": [
    "# Lecture des images\n",
    "fixed_image_path = '../Data/case6_gre1.nrrd'\n",
    "moving_image_path = '../Data/case6_gre2.nrrd'\n",
    "\n",
    "fixed_image = read_nrrd(fixed_image_path)\n",
    "moving_image = read_nrrd(moving_image_path)\n",
    "\n",
    "# Affichage des coupes des images avant recalage\n",
    "print(\"Fixed Image - Slice 50\")\n",
    "display_image_slice(fixed_image, 50)\n",
    "\n",
    "print(\"Moving Image - Slice 50\")\n",
    "display_image_slice(moving_image, 50)\n",
    "\n",
    "# Superposition des images avant recalage\n",
    "print(\"Superposition (sans Recalage)\")\n",
    "overlay_images(fixed_image, moving_image, 50)\n",
    "\n",
    "# Réalisation du recalage\n",
    "registered_image = rigid_registration(fixed_image, moving_image)\n",
    "\n",
    "# Affichage des coupes des images après recalage\n",
    "print(\"Registered Image - Slice 50\")\n",
    "display_image_slice(registered_image, 50)\n",
    "\n",
    "# Superposition des images après recalage\n",
    "print(\"Superposition (avec Recalage)\")\n",
    "overlay_images(fixed_image, registered_image, 50)"
   ]
  },
  {
   "cell_type": "code",
   "execution_count": null,
   "metadata": {},
   "outputs": [],
   "source": []
  }
 ],
 "metadata": {
  "kernelspec": {
   "display_name": "Python 3",
   "language": "python",
   "name": "python3"
  },
  "language_info": {
   "codemirror_mode": {
    "name": "ipython",
    "version": 3
   },
   "file_extension": ".py",
   "mimetype": "text/x-python",
   "name": "python",
   "nbconvert_exporter": "python",
   "pygments_lexer": "ipython3",
   "version": "3.11.7"
  }
 },
 "nbformat": 4,
 "nbformat_minor": 2
}
